{
  "cells": [
    {
      "cell_type": "markdown",
      "metadata": {
        "id": "view-in-github",
        "colab_type": "text"
      },
      "source": [
        "<a href=\"https://colab.research.google.com/github/alexlapshov89/ALapshov_coding/blob/main/ml_7_part2_hw_optimization_of_hyperparameters.ipynb\" target=\"_parent\"><img src=\"https://colab.research.google.com/assets/colab-badge.svg\" alt=\"Open In Colab\"/></a>"
      ]
    },
    {
      "cell_type": "markdown",
      "id": "AoeSkz4KaANH",
      "metadata": {
        "id": "AoeSkz4KaANH"
      },
      "source": [
        "# ML-7. Оптимизация гиперпараметров модели. Практика"
      ]
    },
    {
      "cell_type": "code",
      "execution_count": 47,
      "id": "d8q91-MSaAOG",
      "metadata": {
        "id": "d8q91-MSaAOG",
        "colab": {
          "base_uri": "https://localhost:8080/",
          "height": 373
        },
        "outputId": "43d4cf8b-ea51-432f-e847-6e978c408319"
      },
      "outputs": [
        {
          "output_type": "error",
          "ename": "ModuleNotFoundError",
          "evalue": "ignored",
          "traceback": [
            "\u001b[0;31m---------------------------------------------------------------------------\u001b[0m",
            "\u001b[0;31mModuleNotFoundError\u001b[0m                       Traceback (most recent call last)",
            "\u001b[0;32m<ipython-input-47-7385e50960ca>\u001b[0m in \u001b[0;36m<module>\u001b[0;34m\u001b[0m\n\u001b[1;32m     17\u001b[0m \u001b[0;32mfrom\u001b[0m \u001b[0mhyperopt\u001b[0m \u001b[0;32mimport\u001b[0m \u001b[0mhp\u001b[0m\u001b[0;34m,\u001b[0m \u001b[0mfmin\u001b[0m\u001b[0;34m,\u001b[0m \u001b[0mtpe\u001b[0m\u001b[0;34m,\u001b[0m \u001b[0mTrials\u001b[0m\u001b[0;34m\u001b[0m\u001b[0;34m\u001b[0m\u001b[0m\n\u001b[1;32m     18\u001b[0m \u001b[0;34m\u001b[0m\u001b[0m\n\u001b[0;32m---> 19\u001b[0;31m \u001b[0;32mimport\u001b[0m \u001b[0moptuna\u001b[0m\u001b[0;34m\u001b[0m\u001b[0;34m\u001b[0m\u001b[0m\n\u001b[0m\u001b[1;32m     20\u001b[0m \u001b[0;34m\u001b[0m\u001b[0m\n\u001b[1;32m     21\u001b[0m \u001b[0mget_ipython\u001b[0m\u001b[0;34m(\u001b[0m\u001b[0;34m)\u001b[0m\u001b[0;34m.\u001b[0m\u001b[0mrun_line_magic\u001b[0m\u001b[0;34m(\u001b[0m\u001b[0;34m'matplotlib'\u001b[0m\u001b[0;34m,\u001b[0m \u001b[0;34m'inline'\u001b[0m\u001b[0;34m)\u001b[0m\u001b[0;34m\u001b[0m\u001b[0;34m\u001b[0m\u001b[0m\n",
            "\u001b[0;31mModuleNotFoundError\u001b[0m: No module named 'optuna'",
            "",
            "\u001b[0;31m---------------------------------------------------------------------------\u001b[0;32m\nNOTE: If your import is failing due to a missing package, you can\nmanually install dependencies using either !pip or !apt.\n\nTo view examples of installing some common dependencies, click the\n\"Open Examples\" button below.\n\u001b[0;31m---------------------------------------------------------------------------\u001b[0m\n"
          ],
          "errorDetails": {
            "actions": [
              {
                "action": "open_url",
                "actionText": "Open Examples",
                "url": "/notebooks/snippets/importing_libraries.ipynb"
              }
            ]
          }
        }
      ],
      "source": [
        "#импорт библиотек\n",
        "import numpy as np #для матричных вычислений\n",
        "import pandas as pd #для анализа и предобработки данных\n",
        "import matplotlib.pyplot as plt #для визуализации\n",
        "import seaborn as sns #для визуализации\n",
        "\n",
        "from sklearn import linear_model #линейные моделиё\n",
        "from sklearn import tree #деревья решений\n",
        "from sklearn import ensemble #ансамбли\n",
        "from sklearn import metrics #метрики\n",
        "from sklearn import preprocessing #предобработка\n",
        "from sklearn.model_selection import train_test_split #сплитование выборки\n",
        "from sklearn.model_selection import GridSearchCV\n",
        "from sklearn.model_selection import RandomizedSearchCV\n",
        "from sklearn.model_selection import cross_val_score\n",
        "import hyperopt\n",
        "from hyperopt import hp, fmin, tpe, Trials\n",
        "\n",
        "#import optuna\n",
        "\n",
        "%matplotlib inline\n",
        "plt.style.use('seaborn')"
      ]
    },
    {
      "cell_type": "markdown",
      "id": "af628f85-6780-4b24-8212-e9946c388196",
      "metadata": {
        "id": "af628f85-6780-4b24-8212-e9946c388196",
        "tags": []
      },
      "source": [
        "## 1. Введение"
      ]
    },
    {
      "cell_type": "markdown",
      "id": "b8896f5c-1683-4a55-987f-60ce00207db5",
      "metadata": {
        "id": "b8896f5c-1683-4a55-987f-60ce00207db5"
      },
      "source": [
        "Цели:\n",
        "* Создать модели \"логистическая регрессия\" и \"случайный лес\";\n",
        "* Провести оптимизацию каждой модели с помощью четырех методов GridSearchCV, RandomSearchCV, Hyperopt, Optuna;\n",
        "* Сравнить метрики, полученные каждым из методов. \n"
      ]
    },
    {
      "cell_type": "markdown",
      "id": "203fb80e-a314-4876-850c-5e4913f78563",
      "metadata": {
        "id": "203fb80e-a314-4876-850c-5e4913f78563",
        "tags": []
      },
      "source": [
        "## 2. Загрузка данных"
      ]
    },
    {
      "cell_type": "code",
      "source": [
        "from google.colab import drive\n",
        "drive.mount('/content/drive')"
      ],
      "metadata": {
        "colab": {
          "base_uri": "https://localhost:8080/"
        },
        "id": "LZSxJpCqDwGZ",
        "outputId": "34037daf-7147-4aa5-f55f-354381840011"
      },
      "id": "LZSxJpCqDwGZ",
      "execution_count": 2,
      "outputs": [
        {
          "output_type": "stream",
          "name": "stdout",
          "text": [
            "Mounted at /content/drive\n"
          ]
        }
      ]
    },
    {
      "cell_type": "code",
      "execution_count": 3,
      "id": "p770SmlfaAO3",
      "metadata": {
        "colab": {
          "base_uri": "https://localhost:8080/",
          "height": 0
        },
        "id": "p770SmlfaAO3",
        "outputId": "4261d544-7f8f-412c-dc71-8a6e381d07b6"
      },
      "outputs": [
        {
          "output_type": "stream",
          "name": "stdout",
          "text": [
            "(3751, 1777)\n"
          ]
        },
        {
          "output_type": "execute_result",
          "data": {
            "text/plain": [
              "   Activity        D1        D2    D3   D4        D5        D6        D7  \\\n",
              "0         1  0.000000  0.497009  0.10  0.0  0.132956  0.678031  0.273166   \n",
              "1         1  0.366667  0.606291  0.05  0.0  0.111209  0.803455  0.106105   \n",
              "2         1  0.033300  0.480124  0.00  0.0  0.209791  0.610350  0.356453   \n",
              "3         1  0.000000  0.538825  0.00  0.5  0.196344  0.724230  0.235606   \n",
              "4         0  0.100000  0.517794  0.00  0.0  0.494734  0.781422  0.154361   \n",
              "\n",
              "         D8        D9  ...  D1767  D1768  D1769  D1770  D1771  D1772  D1773  \\\n",
              "0  0.585445  0.743663  ...      0      0      0      0      0      0      0   \n",
              "1  0.411754  0.836582  ...      1      1      1      1      0      1      0   \n",
              "2  0.517720  0.679051  ...      0      0      0      0      0      0      0   \n",
              "3  0.288764  0.805110  ...      0      0      0      0      0      0      0   \n",
              "4  0.303809  0.812646  ...      0      0      0      0      0      0      0   \n",
              "\n",
              "   D1774  D1775  D1776  \n",
              "0      0      0      0  \n",
              "1      0      1      0  \n",
              "2      0      0      0  \n",
              "3      0      0      0  \n",
              "4      0      0      0  \n",
              "\n",
              "[5 rows x 1777 columns]"
            ],
            "text/html": [
              "\n",
              "  <div id=\"df-66cde028-7fc8-4179-a7ff-393a68191749\">\n",
              "    <div class=\"colab-df-container\">\n",
              "      <div>\n",
              "<style scoped>\n",
              "    .dataframe tbody tr th:only-of-type {\n",
              "        vertical-align: middle;\n",
              "    }\n",
              "\n",
              "    .dataframe tbody tr th {\n",
              "        vertical-align: top;\n",
              "    }\n",
              "\n",
              "    .dataframe thead th {\n",
              "        text-align: right;\n",
              "    }\n",
              "</style>\n",
              "<table border=\"1\" class=\"dataframe\">\n",
              "  <thead>\n",
              "    <tr style=\"text-align: right;\">\n",
              "      <th></th>\n",
              "      <th>Activity</th>\n",
              "      <th>D1</th>\n",
              "      <th>D2</th>\n",
              "      <th>D3</th>\n",
              "      <th>D4</th>\n",
              "      <th>D5</th>\n",
              "      <th>D6</th>\n",
              "      <th>D7</th>\n",
              "      <th>D8</th>\n",
              "      <th>D9</th>\n",
              "      <th>...</th>\n",
              "      <th>D1767</th>\n",
              "      <th>D1768</th>\n",
              "      <th>D1769</th>\n",
              "      <th>D1770</th>\n",
              "      <th>D1771</th>\n",
              "      <th>D1772</th>\n",
              "      <th>D1773</th>\n",
              "      <th>D1774</th>\n",
              "      <th>D1775</th>\n",
              "      <th>D1776</th>\n",
              "    </tr>\n",
              "  </thead>\n",
              "  <tbody>\n",
              "    <tr>\n",
              "      <th>0</th>\n",
              "      <td>1</td>\n",
              "      <td>0.000000</td>\n",
              "      <td>0.497009</td>\n",
              "      <td>0.10</td>\n",
              "      <td>0.0</td>\n",
              "      <td>0.132956</td>\n",
              "      <td>0.678031</td>\n",
              "      <td>0.273166</td>\n",
              "      <td>0.585445</td>\n",
              "      <td>0.743663</td>\n",
              "      <td>...</td>\n",
              "      <td>0</td>\n",
              "      <td>0</td>\n",
              "      <td>0</td>\n",
              "      <td>0</td>\n",
              "      <td>0</td>\n",
              "      <td>0</td>\n",
              "      <td>0</td>\n",
              "      <td>0</td>\n",
              "      <td>0</td>\n",
              "      <td>0</td>\n",
              "    </tr>\n",
              "    <tr>\n",
              "      <th>1</th>\n",
              "      <td>1</td>\n",
              "      <td>0.366667</td>\n",
              "      <td>0.606291</td>\n",
              "      <td>0.05</td>\n",
              "      <td>0.0</td>\n",
              "      <td>0.111209</td>\n",
              "      <td>0.803455</td>\n",
              "      <td>0.106105</td>\n",
              "      <td>0.411754</td>\n",
              "      <td>0.836582</td>\n",
              "      <td>...</td>\n",
              "      <td>1</td>\n",
              "      <td>1</td>\n",
              "      <td>1</td>\n",
              "      <td>1</td>\n",
              "      <td>0</td>\n",
              "      <td>1</td>\n",
              "      <td>0</td>\n",
              "      <td>0</td>\n",
              "      <td>1</td>\n",
              "      <td>0</td>\n",
              "    </tr>\n",
              "    <tr>\n",
              "      <th>2</th>\n",
              "      <td>1</td>\n",
              "      <td>0.033300</td>\n",
              "      <td>0.480124</td>\n",
              "      <td>0.00</td>\n",
              "      <td>0.0</td>\n",
              "      <td>0.209791</td>\n",
              "      <td>0.610350</td>\n",
              "      <td>0.356453</td>\n",
              "      <td>0.517720</td>\n",
              "      <td>0.679051</td>\n",
              "      <td>...</td>\n",
              "      <td>0</td>\n",
              "      <td>0</td>\n",
              "      <td>0</td>\n",
              "      <td>0</td>\n",
              "      <td>0</td>\n",
              "      <td>0</td>\n",
              "      <td>0</td>\n",
              "      <td>0</td>\n",
              "      <td>0</td>\n",
              "      <td>0</td>\n",
              "    </tr>\n",
              "    <tr>\n",
              "      <th>3</th>\n",
              "      <td>1</td>\n",
              "      <td>0.000000</td>\n",
              "      <td>0.538825</td>\n",
              "      <td>0.00</td>\n",
              "      <td>0.5</td>\n",
              "      <td>0.196344</td>\n",
              "      <td>0.724230</td>\n",
              "      <td>0.235606</td>\n",
              "      <td>0.288764</td>\n",
              "      <td>0.805110</td>\n",
              "      <td>...</td>\n",
              "      <td>0</td>\n",
              "      <td>0</td>\n",
              "      <td>0</td>\n",
              "      <td>0</td>\n",
              "      <td>0</td>\n",
              "      <td>0</td>\n",
              "      <td>0</td>\n",
              "      <td>0</td>\n",
              "      <td>0</td>\n",
              "      <td>0</td>\n",
              "    </tr>\n",
              "    <tr>\n",
              "      <th>4</th>\n",
              "      <td>0</td>\n",
              "      <td>0.100000</td>\n",
              "      <td>0.517794</td>\n",
              "      <td>0.00</td>\n",
              "      <td>0.0</td>\n",
              "      <td>0.494734</td>\n",
              "      <td>0.781422</td>\n",
              "      <td>0.154361</td>\n",
              "      <td>0.303809</td>\n",
              "      <td>0.812646</td>\n",
              "      <td>...</td>\n",
              "      <td>0</td>\n",
              "      <td>0</td>\n",
              "      <td>0</td>\n",
              "      <td>0</td>\n",
              "      <td>0</td>\n",
              "      <td>0</td>\n",
              "      <td>0</td>\n",
              "      <td>0</td>\n",
              "      <td>0</td>\n",
              "      <td>0</td>\n",
              "    </tr>\n",
              "  </tbody>\n",
              "</table>\n",
              "<p>5 rows × 1777 columns</p>\n",
              "</div>\n",
              "      <button class=\"colab-df-convert\" onclick=\"convertToInteractive('df-66cde028-7fc8-4179-a7ff-393a68191749')\"\n",
              "              title=\"Convert this dataframe to an interactive table.\"\n",
              "              style=\"display:none;\">\n",
              "        \n",
              "  <svg xmlns=\"http://www.w3.org/2000/svg\" height=\"24px\"viewBox=\"0 0 24 24\"\n",
              "       width=\"24px\">\n",
              "    <path d=\"M0 0h24v24H0V0z\" fill=\"none\"/>\n",
              "    <path d=\"M18.56 5.44l.94 2.06.94-2.06 2.06-.94-2.06-.94-.94-2.06-.94 2.06-2.06.94zm-11 1L8.5 8.5l.94-2.06 2.06-.94-2.06-.94L8.5 2.5l-.94 2.06-2.06.94zm10 10l.94 2.06.94-2.06 2.06-.94-2.06-.94-.94-2.06-.94 2.06-2.06.94z\"/><path d=\"M17.41 7.96l-1.37-1.37c-.4-.4-.92-.59-1.43-.59-.52 0-1.04.2-1.43.59L10.3 9.45l-7.72 7.72c-.78.78-.78 2.05 0 2.83L4 21.41c.39.39.9.59 1.41.59.51 0 1.02-.2 1.41-.59l7.78-7.78 2.81-2.81c.8-.78.8-2.07 0-2.86zM5.41 20L4 18.59l7.72-7.72 1.47 1.35L5.41 20z\"/>\n",
              "  </svg>\n",
              "      </button>\n",
              "      \n",
              "  <style>\n",
              "    .colab-df-container {\n",
              "      display:flex;\n",
              "      flex-wrap:wrap;\n",
              "      gap: 12px;\n",
              "    }\n",
              "\n",
              "    .colab-df-convert {\n",
              "      background-color: #E8F0FE;\n",
              "      border: none;\n",
              "      border-radius: 50%;\n",
              "      cursor: pointer;\n",
              "      display: none;\n",
              "      fill: #1967D2;\n",
              "      height: 32px;\n",
              "      padding: 0 0 0 0;\n",
              "      width: 32px;\n",
              "    }\n",
              "\n",
              "    .colab-df-convert:hover {\n",
              "      background-color: #E2EBFA;\n",
              "      box-shadow: 0px 1px 2px rgba(60, 64, 67, 0.3), 0px 1px 3px 1px rgba(60, 64, 67, 0.15);\n",
              "      fill: #174EA6;\n",
              "    }\n",
              "\n",
              "    [theme=dark] .colab-df-convert {\n",
              "      background-color: #3B4455;\n",
              "      fill: #D2E3FC;\n",
              "    }\n",
              "\n",
              "    [theme=dark] .colab-df-convert:hover {\n",
              "      background-color: #434B5C;\n",
              "      box-shadow: 0px 1px 3px 1px rgba(0, 0, 0, 0.15);\n",
              "      filter: drop-shadow(0px 1px 2px rgba(0, 0, 0, 0.3));\n",
              "      fill: #FFFFFF;\n",
              "    }\n",
              "  </style>\n",
              "\n",
              "      <script>\n",
              "        const buttonEl =\n",
              "          document.querySelector('#df-66cde028-7fc8-4179-a7ff-393a68191749 button.colab-df-convert');\n",
              "        buttonEl.style.display =\n",
              "          google.colab.kernel.accessAllowed ? 'block' : 'none';\n",
              "\n",
              "        async function convertToInteractive(key) {\n",
              "          const element = document.querySelector('#df-66cde028-7fc8-4179-a7ff-393a68191749');\n",
              "          const dataTable =\n",
              "            await google.colab.kernel.invokeFunction('convertToInteractive',\n",
              "                                                     [key], {});\n",
              "          if (!dataTable) return;\n",
              "\n",
              "          const docLinkHtml = 'Like what you see? Visit the ' +\n",
              "            '<a target=\"_blank\" href=https://colab.research.google.com/notebooks/data_table.ipynb>data table notebook</a>'\n",
              "            + ' to learn more about interactive tables.';\n",
              "          element.innerHTML = '';\n",
              "          dataTable['output_type'] = 'display_data';\n",
              "          await google.colab.output.renderOutput(dataTable, element);\n",
              "          const docLink = document.createElement('div');\n",
              "          docLink.innerHTML = docLinkHtml;\n",
              "          element.appendChild(docLink);\n",
              "        }\n",
              "      </script>\n",
              "    </div>\n",
              "  </div>\n",
              "  "
            ]
          },
          "metadata": {},
          "execution_count": 3
        }
      ],
      "source": [
        "#ЕСЛИ РАБОТАЕМ В IDE\n",
        "#data = pd.read_csv('https://drive.google.com/file/d/1RidLNVOGpOGhyADMs7H2N9SInJhePEiH/view?usp=sharing')\n",
        "\n",
        "#ЕСЛИ РАБОТАЕМ В GOOGLE COLAB\n",
        "# подключаем google диск, где у нас хранятся данные\n",
        "# from google.colab import drive\n",
        "# drive.mount('/content/drive')\n",
        "# # берем необходимый нам файл с диска, указав путь\n",
        "data = pd.read_csv('/content/drive/MyDrive/Colab Notebooks/Skillfactory/ML-7 Оптимизация гиперпараметров модели/data/_train_sem09 (1).csv')\n",
        "print(data.shape)\n",
        "data.head()"
      ]
    },
    {
      "cell_type": "markdown",
      "id": "g2w-AD7uaAPK",
      "metadata": {
        "id": "g2w-AD7uaAPK"
      },
      "source": [
        "По условию задачи предобработка данных не требуется."
      ]
    },
    {
      "cell_type": "code",
      "execution_count": 4,
      "id": "-0L4fYsbaAPP",
      "metadata": {
        "colab": {
          "base_uri": "https://localhost:8080/"
        },
        "id": "-0L4fYsbaAPP",
        "outputId": "517edd67-5292-41a3-97fa-e6ce40496292"
      },
      "outputs": [
        {
          "output_type": "execute_result",
          "data": {
            "text/plain": [
              "array([0])"
            ]
          },
          "metadata": {},
          "execution_count": 4
        }
      ],
      "source": [
        "data.isnull().sum().unique() # проверка отсутствия пропусков"
      ]
    },
    {
      "cell_type": "code",
      "execution_count": 5,
      "id": "PPo2xmRdaAPf",
      "metadata": {
        "colab": {
          "base_uri": "https://localhost:8080/",
          "height": 0
        },
        "id": "PPo2xmRdaAPf",
        "outputId": "e2e3d1fe-a5d5-4a07-b406-6ca00e033b39"
      },
      "outputs": [
        {
          "output_type": "execute_result",
          "data": {
            "text/plain": [
              "<matplotlib.axes._subplots.AxesSubplot at 0x7f021deb3650>"
            ]
          },
          "metadata": {},
          "execution_count": 5
        },
        {
          "output_type": "display_data",
          "data": {
            "text/plain": [
              "<Figure size 576x396 with 1 Axes>"
            ],
            "image/png": "[encoded data removed]"
          },
          "metadata": {}
        }
      ],
      "source": [
        "sns.countplot(data=data, x='Activity') # cмотрим на сбалансированность классов"
      ]
    },
    {
      "cell_type": "code",
      "execution_count": 6,
      "id": "JmkrvmJRaAP1",
      "metadata": {
        "colab": {
          "base_uri": "https://localhost:8080/"
        },
        "id": "JmkrvmJRaAP1",
        "outputId": "de433891-11e5-45b1-de5d-0b360a653933"
      },
      "outputs": [
        {
          "output_type": "execute_result",
          "data": {
            "text/plain": [
              "[]"
            ]
          },
          "metadata": {},
          "execution_count": 6
        }
      ],
      "source": [
        "# Проверка отсутствия признаков типа \"object\"\n",
        "types = data.dtypes\n",
        "cat_features = list(types[(types == 'object')].index)\n",
        "cat_features"
      ]
    },
    {
      "cell_type": "markdown",
      "id": "8p3eELnEaAQW",
      "metadata": {
        "id": "8p3eELnEaAQW"
      },
      "source": [
        "Создаем матрицу наблюдений $X$ и вектор ответов $y$"
      ]
    },
    {
      "cell_type": "code",
      "execution_count": 7,
      "id": "_2GncsCbaAQY",
      "metadata": {
        "id": "_2GncsCbaAQY"
      },
      "outputs": [],
      "source": [
        "X = data.drop(['Activity'], axis=1)\n",
        "y = data['Activity']"
      ]
    },
    {
      "cell_type": "markdown",
      "id": "q4SyRSFhaAQZ",
      "metadata": {
        "id": "q4SyRSFhaAQZ"
      },
      "source": [
        "Разделяем выборку на тренировочную и тестовую в соотношении 80/20. Для сохранения соотношений целевого признака используем параметр stratify (стратифицированное разбиение). "
      ]
    },
    {
      "cell_type": "code",
      "execution_count": 8,
      "id": "Fl_eJIInaAQa",
      "metadata": {
        "id": "Fl_eJIInaAQa"
      },
      "outputs": [],
      "source": [
        "X_train, X_test, y_train, y_test = train_test_split(X, y, stratify=y, random_state = 1, test_size = 0.2)"
      ]
    },
    {
      "cell_type": "markdown",
      "id": "H7DZBta2aAQf",
      "metadata": {
        "id": "H7DZBta2aAQf",
        "tags": []
      },
      "source": [
        "## 3. Создание моделей и расчет метрики без оптимизации гиперпараметров"
      ]
    },
    {
      "cell_type": "markdown",
      "id": "5b6d603a-1ce0-414e-b095-e0f61113c0e7",
      "metadata": {
        "id": "5b6d603a-1ce0-414e-b095-e0f61113c0e7"
      },
      "source": [
        "Зафиксируем только метрики, которые были получены без дополнительной настройки, т.е со значениями гиперпараметров, установленных по умолчанию:"
      ]
    },
    {
      "cell_type": "code",
      "execution_count": 9,
      "id": "0aMCHU3-aAQn",
      "metadata": {
        "colab": {
          "base_uri": "https://localhost:8080/"
        },
        "id": "0aMCHU3-aAQn",
        "outputId": "c92a8450-ca75-44ed-f19e-a7b62ce9a516"
      },
      "outputs": [
        {
          "output_type": "stream",
          "name": "stdout",
          "text": [
            "accuracy на тестовом наборе: 0.76\n",
            "f1_score на тестовом наборе: 0.78\n"
          ]
        }
      ],
      "source": [
        "#Создаем объект класса логистическая регрессия\n",
        "log_reg = linear_model.LogisticRegression(random_state=42,max_iter=1000)\n",
        "#Обучаем модель, минимизируя logloss\n",
        "log_reg.fit(X_train, y_train)\n",
        "print(\"accuracy на тестовом наборе: {:.2f}\".format(log_reg.score(X_test, y_test)))\n",
        "y_test_pred = log_reg.predict(X_test)\n",
        "print('f1_score на тестовом наборе: {:.2f}'.format(metrics.f1_score(y_test, y_test_pred)))"
      ]
    },
    {
      "cell_type": "code",
      "execution_count": 10,
      "id": "XUYSiTfraARA",
      "metadata": {
        "id": "XUYSiTfraARA",
        "colab": {
          "base_uri": "https://localhost:8080/"
        },
        "outputId": "d604bfbd-8afb-44dc-ec43-79953711ea83"
      },
      "outputs": [
        {
          "output_type": "stream",
          "name": "stdout",
          "text": [
            "f1_score на тренировочном наборе: 1.00\n",
            "f1_score на тестовом наборе: 0.81\n"
          ]
        }
      ],
      "source": [
        "#Создаем объект класса случайный лес\n",
        "rf = ensemble.RandomForestClassifier(random_state=42)\n",
        "#Обучаем модель\n",
        "rf.fit(X_train, y_train)\n",
        "#Выводим значения метрики \n",
        "y_train_pred = rf.predict(X_train)\n",
        "print('f1_score на тренировочном наборе: {:.2f}'.format(metrics.f1_score(y_train, y_train_pred)))\n",
        "y_test_pred = rf.predict(X_test)\n",
        "print('f1_score на тестовом наборе: {:.2f}'.format(metrics.f1_score(y_test, y_test_pred)))"
      ]
    },
    {
      "cell_type": "markdown",
      "id": "Q6PP7ObJp7WG",
      "metadata": {
        "id": "Q6PP7ObJp7WG"
      },
      "source": [
        "## 4. Оптимизация гиперпараметров моделей с помощью GridSearchCV"
      ]
    },
    {
      "cell_type": "code",
      "execution_count": 11,
      "id": "gLkG_sbSkBcu",
      "metadata": {
        "colab": {
          "base_uri": "https://localhost:8080/"
        },
        "id": "gLkG_sbSkBcu",
        "outputId": "14825f98-b16a-4742-80b3-b29d1468473e"
      },
      "outputs": [
        {
          "output_type": "stream",
          "name": "stdout",
          "text": [
            "CPU times: user 8.83 s, sys: 990 ms, total: 9.82 s\n",
            "Wall time: 8min 10s\n",
            "accuracy на тестовом наборе: 0.76\n",
            "f1_score на тестовом наборе: 0.78\n",
            "Наилучшие значения гиперпараметров: {'penalty': 'l2', 'solver': 'lbfgs'}\n"
          ]
        }
      ],
      "source": [
        "# Оптимизация модели логистической регрессии\n",
        "param_grid = {'penalty': ['l2', 'none'] ,#тип регурялизации\n",
        "              'solver': ['lbfgs', 'saga'], #алгоритм оптимизации\n",
        "              }\n",
        "grid_search = GridSearchCV(\n",
        "    estimator=linear_model.LogisticRegression(\n",
        "        random_state=42, #генератор случайных чисел\n",
        "        max_iter=1000 #количество итераций на сходимость\n",
        "    ), \n",
        "    param_grid=param_grid, \n",
        "    cv=5, \n",
        "    n_jobs = -1\n",
        ")  \n",
        "%time grid_search.fit(X_train, y_train) \n",
        "print(\"accuracy на тестовом наборе: {:.2f}\".format(grid_search.score(X_test, y_test)))\n",
        "y_test_pred = grid_search.predict(X_test)\n",
        "print('f1_score на тестовом наборе: {:.2f}'.format(metrics.f1_score(y_test, y_test_pred)))\n",
        "print(\"Наилучшие значения гиперпараметров: {}\".format(grid_search.best_params_))"
      ]
    },
    {
      "cell_type": "markdown",
      "source": [
        "Значение метрики модели логистической регрессии не изменилось."
      ],
      "metadata": {
        "id": "-JYfr6WQ9dx9"
      },
      "id": "-JYfr6WQ9dx9"
    },
    {
      "cell_type": "code",
      "source": [
        "# Оптимизация модели случайного леса\n",
        "param_grid = {'n_estimators': list(range(100, 200, 30)) ,\n",
        "                      'min_samples_leaf': [5, 7],\n",
        "                      'max_depth': [10, 15, 20, 25]},\n",
        "            \n",
        "grid_search = GridSearchCV(\n",
        "    estimator=ensemble.RandomForestClassifier(random_state=42), \n",
        "    param_grid=param_grid, \n",
        "    cv=5, \n",
        "    n_jobs = -1\n",
        ")  \n",
        "%time grid_search.fit(X_train, y_train) \n",
        "print(\"accuracy на тестовом наборе: {:.2f}\".format(grid_search.score(X_test, y_test)))\n",
        "y_test_pred = grid_search.predict(X_test)\n",
        "print('f1_score на тестовом наборе: {:.2f}'.format(metrics.f1_score(y_test, y_test_pred)))\n",
        "print(\"Наилучшие значения гиперпараметров: {}\".format(grid_search.best_params_))"
      ],
      "metadata": {
        "colab": {
          "base_uri": "https://localhost:8080/"
        },
        "id": "FVTUd4ukMlfE",
        "outputId": "65889db4-d792-4260-956b-48dd70cedac9"
      },
      "id": "FVTUd4ukMlfE",
      "execution_count": 13,
      "outputs": [
        {
          "output_type": "stream",
          "name": "stdout",
          "text": [
            "CPU times: user 3.69 s, sys: 197 ms, total: 3.88 s\n",
            "Wall time: 3min 32s\n",
            "accuracy на тестовом наборе: 0.80\n",
            "f1_score на тестовом наборе: 0.82\n",
            "Наилучшие значения гиперпараметров: {'max_depth': 20, 'min_samples_leaf': 7, 'n_estimators': 130}\n"
          ]
        }
      ]
    },
    {
      "cell_type": "markdown",
      "id": "C6O5rNDhXwN6",
      "metadata": {
        "id": "C6O5rNDhXwN6"
      },
      "source": [
        "Значение метрики для модели случайного леса увеличилось до 0.82 (на 0.01)."
      ]
    },
    {
      "cell_type": "markdown",
      "source": [
        "## 5. Оптимизация гиперпараметров моделей с помощью RandomSearchCV"
      ],
      "metadata": {
        "id": "gDRGHZUs5eDf"
      },
      "id": "gDRGHZUs5eDf"
    },
    {
      "cell_type": "code",
      "execution_count": 16,
      "id": "4yjUJJKntcX7",
      "metadata": {
        "colab": {
          "base_uri": "https://localhost:8080/"
        },
        "id": "4yjUJJKntcX7",
        "outputId": "2c8d0f0d-f979-4f88-f9fe-d27d65750f9a"
      },
      "outputs": [
        {
          "output_type": "stream",
          "name": "stdout",
          "text": [
            "CPU times: user 7.44 s, sys: 906 ms, total: 8.35 s\n",
            "Wall time: 11min 44s\n",
            "accuracy на тестовом наборе: 0.76\n",
            "f1_score на тестовом наборе: 0.78\n",
            "Наилучшие значения гиперпараметров: {'solver': 'lbfgs', 'penalty': 'l2', 'C': 0.34}\n"
          ]
        }
      ],
      "source": [
        "# Оптимизация модели логистической регрессии\n",
        "param_distributions = {'penalty': ['l2', 'none'] ,\n",
        "              'solver': ['lbfgs', 'sag'],\n",
        "               'C': list(np.linspace(0.01, 1, 10, dtype=float))},\n",
        "            \n",
        "random_search = RandomizedSearchCV(\n",
        "    estimator=linear_model.LogisticRegression(random_state=42, max_iter=1000), \n",
        "    param_distributions=param_distributions, \n",
        "    cv=5, \n",
        "    n_iter = 10, \n",
        "    n_jobs = -1\n",
        ")  \n",
        "%time random_search.fit(X_train, y_train) \n",
        "print(\"accuracy на тестовом наборе: {:.2f}\".format(random_search.score(X_test, y_test)))\n",
        "y_test_pred = random_search.predict(X_test)\n",
        "print('f1_score на тестовом наборе: {:.2f}'.format(metrics.f1_score(y_test, y_test_pred)))\n",
        "print(\"Наилучшие значения гиперпараметров: {}\".format(random_search.best_params_))"
      ]
    },
    {
      "cell_type": "markdown",
      "source": [
        "Значение метрики не изменилось."
      ],
      "metadata": {
        "id": "DRY-9FEKA27S"
      },
      "id": "DRY-9FEKA27S"
    },
    {
      "cell_type": "code",
      "source": [
        "# Оптимизация модели случайного леса\n",
        "param_distributions = {'n_estimators': list(range(100, 200, 30)) ,\n",
        "                      'min_samples_leaf': [5, 7],\n",
        "                      'max_depth': [10, 15, 20, 25]},\n",
        "            \n",
        "random_search = RandomizedSearchCV(\n",
        "    estimator=ensemble.RandomForestClassifier(random_state=42), \n",
        "    param_distributions=param_distributions, \n",
        "    cv=5, \n",
        "    n_iter = 10, \n",
        "    n_jobs = -1\n",
        ")  \n",
        "%time random_search.fit(X_train, y_train) \n",
        "print(\"accuracy на тестовом наборе: {:.2f}\".format(random_search.score(X_test, y_test)))\n",
        "y_test_pred = random_search.predict(X_test)\n",
        "print('f1_score на тестовом наборе: {:.2f}'.format(metrics.f1_score(y_test, y_test_pred)))\n",
        "print(\"Наилучшие значения гиперпараметров: {}\".format(random_search.best_params_))"
      ],
      "metadata": {
        "colab": {
          "base_uri": "https://localhost:8080/"
        },
        "id": "YoS7kGjuKEoB",
        "outputId": "fe1b12b3-e7f2-445e-8398-81ae969cf202"
      },
      "id": "YoS7kGjuKEoB",
      "execution_count": 17,
      "outputs": [
        {
          "output_type": "stream",
          "name": "stdout",
          "text": [
            "CPU times: user 2.27 s, sys: 76 ms, total: 2.34 s\n",
            "Wall time: 1min 1s\n",
            "accuracy на тестовом наборе: 0.80\n",
            "f1_score на тестовом наборе: 0.82\n",
            "Наилучшие значения гиперпараметров: {'n_estimators': 130, 'min_samples_leaf': 7, 'max_depth': 20}\n"
          ]
        }
      ]
    },
    {
      "cell_type": "markdown",
      "source": [
        "Значение метрики увеличилось до 0.82 (на 0.01). Время оптимизации существенно меньше по сравнению с методом GridSearchCV."
      ],
      "metadata": {
        "id": "1GswIHNW617c"
      },
      "id": "1GswIHNW617c"
    },
    {
      "cell_type": "markdown",
      "source": [
        "## 6. Оптимизация гиперпараметров моделей с помощью HyperOpt"
      ],
      "metadata": {
        "id": "K5WoYlh263y5"
      },
      "id": "K5WoYlh263y5"
    },
    {
      "cell_type": "markdown",
      "source": [
        "Оптимизация параметров модели логистической регрессии"
      ],
      "metadata": {
        "id": "U4086uxYCh1y"
      },
      "id": "U4086uxYCh1y"
    },
    {
      "cell_type": "code",
      "source": [
        "# зафксируем random_state\n",
        "random_state = 42"
      ],
      "metadata": {
        "id": "ebaEqgfPGMmP"
      },
      "id": "ebaEqgfPGMmP",
      "execution_count": 26,
      "outputs": []
    },
    {
      "cell_type": "code",
      "source": [
        "# зададим пространство поиска гиперпараметров\n",
        "space={'penalty': hp.choice('penalty', ['l2', 'none']),\n",
        "       'solver' : hp.choice('solver', ['lbfgs', 'saga']),\n",
        "       'C'      : hp.uniform('C',0.01, 1)\n",
        "      }"
      ],
      "metadata": {
        "id": "_m76dMsNFYp_"
      },
      "id": "_m76dMsNFYp_",
      "execution_count": 34,
      "outputs": []
    },
    {
      "cell_type": "code",
      "source": [
        "def hyperopt_lg_reg(params, cv=5, X=X_train, y=y_train, random_state=random_state):\n",
        "    # функция получает комбинацию гиперпараметров в \"params\"\n",
        "    params = {'penalty' : params['penalty'], \n",
        "              'solver'  : params['solver'],\n",
        "              'C'       : params['C']\n",
        "              }\n",
        "  \n",
        "    # используем эту комбинацию для построения модели\n",
        "    model = linear_model.LogisticRegression(**params,random_state=random_state,max_iter=1000)\n",
        "    \n",
        "    # обучаем модель\n",
        "    #model.fit(X, y)\n",
        "    #score = metrics.f1_score(y, model.predict(X))\n",
        "    \n",
        "    # обучать модель можно также с помощью кросс-валидации\n",
        "    # применим  cross validation с тем же количеством фолдов\n",
        "    score = cross_val_score(model, X, y, cv=cv, scoring=\"f1\", n_jobs=-1).mean()\n",
        "\n",
        "    # метрику необходимо минимизировать, поэтому ставим знак минус\n",
        "    return -score"
      ],
      "metadata": {
        "id": "ntpYS2jXGJhm"
      },
      "id": "ntpYS2jXGJhm",
      "execution_count": 44,
      "outputs": []
    },
    {
      "cell_type": "code",
      "source": [
        "# начинаем подбор гиперпараметров\n",
        "%%time\n",
        "\n",
        "trials = Trials() # используется для логирования результатов\n",
        "\n",
        "best=fmin(hyperopt_lg_reg, # наша функция \n",
        "          space=space, # пространство гиперпараметров\n",
        "          algo=tpe.suggest, # алгоритм оптимизации, установлен по умолчанию, задавать необязательно\n",
        "          max_evals=5, # максимальное количество итераций\n",
        "          trials=trials, # логирование результатов\n",
        "          rstate=np.random.RandomState(random_state)# фиксируем для повторяемости результата\n",
        "         )\n",
        "print(\"Наилучшие значения гиперпараметров {}\".format(best))"
      ],
      "metadata": {
        "colab": {
          "base_uri": "https://localhost:8080/"
        },
        "id": "2Mz3B-qNG2TP",
        "outputId": "af214e7a-19b4-49ed-832a-3c559ff3b83d"
      },
      "id": "2Mz3B-qNG2TP",
      "execution_count": 45,
      "outputs": [
        {
          "output_type": "stream",
          "name": "stdout",
          "text": [
            "\r  0%|          | 0/5 [00:00<?, ?it/s, best loss: ?]"
          ]
        },
        {
          "output_type": "stream",
          "name": "stderr",
          "text": [
            "/usr/local/lib/python3.7/dist-packages/sklearn/linear_model/_logistic.py:1484: UserWarning: Setting penalty='none' will ignore the C and l1_ratio parameters\n",
            "  \"Setting penalty='none' will ignore the C and l1_ratio parameters\"\n",
            "\n",
            "/usr/local/lib/python3.7/dist-packages/sklearn/linear_model/_sag.py:354: ConvergenceWarning: The max_iter was reached which means the coef_ did not converge\n",
            "  ConvergenceWarning,\n",
            "\n"
          ]
        },
        {
          "output_type": "stream",
          "name": "stdout",
          "text": [
            "\r 20%|██        | 1/5 [05:48<23:13, 348.48s/it, best loss: -0.7546660089494158]"
          ]
        },
        {
          "output_type": "stream",
          "name": "stderr",
          "text": [
            "/usr/local/lib/python3.7/dist-packages/sklearn/linear_model/_logistic.py:1484: UserWarning: Setting penalty='none' will ignore the C and l1_ratio parameters\n",
            "  \"Setting penalty='none' will ignore the C and l1_ratio parameters\"\n",
            "\n",
            "/usr/local/lib/python3.7/dist-packages/sklearn/linear_model/_logistic.py:818: ConvergenceWarning: lbfgs failed to converge (status=1):\n",
            "STOP: TOTAL NO. of ITERATIONS REACHED LIMIT.\n",
            "\n",
            "Increase the number of iterations (max_iter) or scale the data as shown in:\n",
            "    https://scikit-learn.org/stable/modules/preprocessing.html\n",
            "Please also refer to the documentation for alternative solver options:\n",
            "    https://scikit-learn.org/stable/modules/linear_model.html#logistic-regression\n",
            "  extra_warning_msg=_LOGISTIC_SOLVER_CONVERGENCE_MSG,\n",
            "\n"
          ]
        },
        {
          "output_type": "stream",
          "name": "stdout",
          "text": [
            " 60%|██████    | 3/5 [06:45<03:16, 98.20s/it, best loss: -0.7725500552483722] "
          ]
        },
        {
          "output_type": "stream",
          "name": "stderr",
          "text": [
            "/usr/local/lib/python3.7/dist-packages/sklearn/linear_model/_logistic.py:1484: UserWarning: Setting penalty='none' will ignore the C and l1_ratio parameters\n",
            "  \"Setting penalty='none' will ignore the C and l1_ratio parameters\"\n",
            "\n",
            "/usr/local/lib/python3.7/dist-packages/sklearn/linear_model/_logistic.py:818: ConvergenceWarning: lbfgs failed to converge (status=1):\n",
            "STOP: TOTAL NO. of ITERATIONS REACHED LIMIT.\n",
            "\n",
            "Increase the number of iterations (max_iter) or scale the data as shown in:\n",
            "    https://scikit-learn.org/stable/modules/preprocessing.html\n",
            "Please also refer to the documentation for alternative solver options:\n",
            "    https://scikit-learn.org/stable/modules/linear_model.html#logistic-regression\n",
            "  extra_warning_msg=_LOGISTIC_SOLVER_CONVERGENCE_MSG,\n",
            "\n"
          ]
        },
        {
          "output_type": "stream",
          "name": "stdout",
          "text": [
            "100%|██████████| 5/5 [09:13<00:00, 110.73s/it, best loss: -0.7808818198236848]\n",
            "Наилучшие значения гиперпараметров {'C': 0.18015284578259508, 'penalty': 0, 'solver': 1}\n",
            "CPU times: user 2min 15s, sys: 6.27 s, total: 2min 21s\n",
            "Wall time: 9min 13s\n"
          ]
        }
      ]
    },
    {
      "cell_type": "code",
      "source": [
        "# рассчитаем точность для тестовой выборки\n",
        "model = linear_model.LogisticRegression(penalty='l2',\n",
        "                                        solver='saga',\n",
        "                                        C=float(best['C']),\n",
        "                                        random_state=random_state,max_iter=1000)\n",
        "model.fit(X_train, y_train)\n",
        "y_train_pred = model.predict(X_train)\n",
        "print('f1_score на обучающем наборе: {:.2f}'.format(metrics.f1_score(y_train, y_train_pred)))\n",
        "print(\"accuracy на тестовом наборе: {:.2f}\".format(model.score(X_test, y_test)))\n",
        "y_test_pred = model.predict(X_test)\n",
        "print('f1_score на тестовом наборе: {:.2f}'.format(metrics.f1_score(y_test, y_test_pred)))"
      ],
      "metadata": {
        "colab": {
          "base_uri": "https://localhost:8080/"
        },
        "id": "o3R-XNQdMMdp",
        "outputId": "9c67628c-1b61-4027-f588-93512fa7f846"
      },
      "id": "o3R-XNQdMMdp",
      "execution_count": 46,
      "outputs": [
        {
          "output_type": "stream",
          "name": "stdout",
          "text": [
            "f1_score на обучающем наборе: 0.86\n",
            "accuracy на тестовом наборе: 0.76\n",
            "f1_score на тестовом наборе: 0.78\n"
          ]
        }
      ]
    },
    {
      "cell_type": "markdown",
      "source": [
        "Значение метрики не изменилось."
      ],
      "metadata": {
        "id": "9mt7NYvvRUKG"
      },
      "id": "9mt7NYvvRUKG"
    },
    {
      "cell_type": "markdown",
      "source": [
        "Оптимизация параметров модели случайного леса"
      ],
      "metadata": {
        "id": "NJ1BwODWCncs"
      },
      "id": "NJ1BwODWCncs"
    },
    {
      "cell_type": "code",
      "execution_count": 64,
      "id": "8dWxW_9K_qJp",
      "metadata": {
        "id": "8dWxW_9K_qJp"
      },
      "outputs": [],
      "source": [
        "# зададим пространство поиска гиперпараметров\n",
        "space={'n_estimators': hp.quniform('n_estimators', 100, 200, 1),\n",
        "       'max_depth' : hp.quniform('max_depth', 10, 26, 1),\n",
        "       'min_samples_leaf': hp.quniform('min_samples_leaf', 2, 10, 1)\n",
        "      }"
      ]
    },
    {
      "cell_type": "code",
      "execution_count": 65,
      "id": "t3JS7HXU8pd2",
      "metadata": {
        "id": "t3JS7HXU8pd2"
      },
      "outputs": [],
      "source": [
        "def hyperopt_rf(params, cv=5, X=X_train, y=y_train, random_state=random_state):\n",
        "    # функция получает комбинацию гиперпараметров в \"params\"\n",
        "    params = {'n_estimators': int(params['n_estimators']), \n",
        "              'max_depth': int(params['max_depth']), \n",
        "             'min_samples_leaf': int(params['min_samples_leaf'])\n",
        "              }\n",
        "  \n",
        "    # используем эту комбинацию для построения модели\n",
        "    model = ensemble.RandomForestClassifier(**params, random_state=random_state)\n",
        "\n",
        "    # обучаем модель\n",
        "    #model.fit(X, y)\n",
        "    #score = metrics.f1_score(y, model.predict(X))\n",
        "    \n",
        "    # обучать модель можно также с помощью кросс-валидации\n",
        "    # применим  cross validation с тем же количеством фолдов\n",
        "    score = cross_val_score(model, X, y, cv=cv, scoring=\"f1\", n_jobs=-1).mean()\n",
        "\n",
        "    # метрику необходимо минимизировать, поэтому ставим знак минус\n",
        "    return -score"
      ]
    },
    {
      "cell_type": "code",
      "execution_count": 66,
      "id": "qxKIThc002O1",
      "metadata": {
        "id": "qxKIThc002O1",
        "colab": {
          "base_uri": "https://localhost:8080/"
        },
        "outputId": "4471542a-fc71-49b5-cc4c-a503a836ec6c"
      },
      "outputs": [
        {
          "output_type": "stream",
          "name": "stdout",
          "text": [
            "100%|██████████| 20/20 [02:22<00:00,  7.12s/it, best loss: -0.8081972440473727]\n",
            "Наилучшие значения гиперпараметров {'max_depth': 24.0, 'min_samples_leaf': 2.0, 'n_estimators': 153.0}\n",
            "CPU times: user 1.83 s, sys: 599 ms, total: 2.42 s\n",
            "Wall time: 2min 22s\n"
          ]
        }
      ],
      "source": [
        "# начинаем подбор гиперпараметров\n",
        "%%time\n",
        "\n",
        "trials = Trials() # используется для логирования результатов\n",
        "\n",
        "best=fmin(hyperopt_rf, # наша функция \n",
        "          space=space, # пространство гиперпараметров\n",
        "          algo=tpe.suggest, # алгоритм оптимизации, установлен по умолчанию, задавать необязательно\n",
        "          max_evals=20, # максимальное количество итераций\n",
        "          trials=trials, # логирование результатов\n",
        "          rstate=np.random.RandomState(random_state)# фиксируем для повторяемости результата\n",
        "         )\n",
        "print(\"Наилучшие значения гиперпараметров {}\".format(best))"
      ]
    },
    {
      "cell_type": "code",
      "source": [
        "# дополнительные итерации оптимизации\n",
        "best=fmin(hyperopt_rf, # наша функция \n",
        "          space=space, # пространство гиперпараметров\n",
        "          algo=tpe.suggest, # алгоритм оптимизации, установлен по умолчанию, задавать необязательно\n",
        "          max_evals=30, # максимальное количество итераций\n",
        "          trials=trials, # логирование результатов\n",
        "          rstate=np.random.RandomState(random_state)# фиксируем для повторяемости результата\n",
        "         )\n",
        "print(\"Наилучшие значения гиперпараметров {}\".format(best))"
      ],
      "metadata": {
        "colab": {
          "base_uri": "https://localhost:8080/"
        },
        "id": "nKjXlTbEEfIH",
        "outputId": "4ef11bd9-fbf7-40e7-ffbf-8c4cedeb8709"
      },
      "id": "nKjXlTbEEfIH",
      "execution_count": 24,
      "outputs": [
        {
          "output_type": "stream",
          "name": "stdout",
          "text": [
            "100%|██████████| 10/10 [01:21<00:00,  8.18s/it, best loss: -0.8109663704182667]\n",
            "Наилучшие значения гиперпараметров {'max_depth': 26.0, 'min_samples_leaf': 2.0, 'n_estimators': 132.0}\n"
          ]
        }
      ]
    },
    {
      "cell_type": "code",
      "execution_count": 67,
      "id": "GjN-n5J601hy",
      "metadata": {
        "id": "GjN-n5J601hy",
        "colab": {
          "base_uri": "https://localhost:8080/"
        },
        "outputId": "00a38331-fc54-424c-a5cd-1038ebef549a"
      },
      "outputs": [
        {
          "output_type": "stream",
          "name": "stdout",
          "text": [
            "f1_score на обучающем наборе: 0.99\n",
            "accuracy на тестовом наборе: 0.80\n",
            "f1_score на тестовом наборе: 0.82\n"
          ]
        }
      ],
      "source": [
        "# рассчитаем точность для тестовой выборки\n",
        "model = ensemble.RandomForestClassifier(\n",
        "    random_state=random_state, \n",
        "    n_estimators=int(best['n_estimators']),\n",
        "    max_depth=int(best['max_depth']),\n",
        "    min_samples_leaf=int(best['min_samples_leaf'])\n",
        ")\n",
        "model.fit(X_train, y_train)\n",
        "y_train_pred = model.predict(X_train)\n",
        "print('f1_score на обучающем наборе: {:.2f}'.format(metrics.f1_score(y_train, y_train_pred)))\n",
        "print(\"accuracy на тестовом наборе: {:.2f}\".format(model.score(X_test, y_test)))\n",
        "y_test_pred = model.predict(X_test)\n",
        "print('f1_score на тестовом наборе: {:.2f}'.format(metrics.f1_score(y_test, y_test_pred)))"
      ]
    },
    {
      "cell_type": "markdown",
      "source": [
        "Значение метрики увеличилось до 0.82 (на 0.01)."
      ],
      "metadata": {
        "id": "yBXnFUZSFMUo"
      },
      "id": "yBXnFUZSFMUo"
    },
    {
      "cell_type": "markdown",
      "id": "b8734d51-d5d5-4424-b8a3-b341dde985b5",
      "metadata": {
        "id": "b8734d51-d5d5-4424-b8a3-b341dde985b5"
      },
      "source": [
        "## 7. Оптимизация гиперпараметров моделей с помощью Optuna"
      ]
    },
    {
      "cell_type": "code",
      "execution_count": 48,
      "id": "cNySTr2GqwbF",
      "metadata": {
        "id": "cNySTr2GqwbF",
        "colab": {
          "base_uri": "https://localhost:8080/"
        },
        "outputId": "dd0b96f2-6f39-40c6-b1e9-37ada501a940"
      },
      "outputs": [
        {
          "output_type": "stream",
          "name": "stdout",
          "text": [
            "Looking in indexes: https://pypi.org/simple, https://us-python.pkg.dev/colab-wheels/public/simple/\n",
            "Collecting optuna\n",
            "  Downloading optuna-3.0.2-py3-none-any.whl (348 kB)\n",
            "\u001b[K     |████████████████████████████████| 348 kB 8.5 MB/s \n",
            "\u001b[?25hRequirement already satisfied: sqlalchemy>=1.3.0 in /usr/local/lib/python3.7/dist-packages (from optuna) (1.4.41)\n",
            "Collecting cmaes>=0.8.2\n",
            "  Downloading cmaes-0.8.2-py3-none-any.whl (15 kB)\n",
            "Requirement already satisfied: tqdm in /usr/local/lib/python3.7/dist-packages (from optuna) (4.64.1)\n",
            "Requirement already satisfied: numpy in /usr/local/lib/python3.7/dist-packages (from optuna) (1.21.6)\n",
            "Collecting alembic>=1.5.0\n",
            "  Downloading alembic-1.8.1-py3-none-any.whl (209 kB)\n",
            "\u001b[K     |████████████████████████████████| 209 kB 54.3 MB/s \n",
            "\u001b[?25hRequirement already satisfied: PyYAML in /usr/local/lib/python3.7/dist-packages (from optuna) (6.0)\n",
            "Requirement already satisfied: scipy<1.9.0,>=1.7.0 in /usr/local/lib/python3.7/dist-packages (from optuna) (1.7.3)\n",
            "Requirement already satisfied: packaging>=20.0 in /usr/local/lib/python3.7/dist-packages (from optuna) (21.3)\n",
            "Collecting cliff\n",
            "  Downloading cliff-3.10.1-py3-none-any.whl (81 kB)\n",
            "\u001b[K     |████████████████████████████████| 81 kB 10.4 MB/s \n",
            "\u001b[?25hCollecting colorlog\n",
            "  Downloading colorlog-6.7.0-py2.py3-none-any.whl (11 kB)\n",
            "Requirement already satisfied: importlib-resources in /usr/local/lib/python3.7/dist-packages (from alembic>=1.5.0->optuna) (5.9.0)\n",
            "Requirement already satisfied: importlib-metadata in /usr/local/lib/python3.7/dist-packages (from alembic>=1.5.0->optuna) (4.12.0)\n",
            "Collecting Mako\n",
            "  Downloading Mako-1.2.2-py3-none-any.whl (78 kB)\n",
            "\u001b[K     |████████████████████████████████| 78 kB 8.5 MB/s \n",
            "\u001b[?25hRequirement already satisfied: pyparsing!=3.0.5,>=2.0.2 in /usr/local/lib/python3.7/dist-packages (from packaging>=20.0->optuna) (3.0.9)\n",
            "Requirement already satisfied: greenlet!=0.4.17 in /usr/local/lib/python3.7/dist-packages (from sqlalchemy>=1.3.0->optuna) (1.1.3)\n",
            "Collecting cmd2>=1.0.0\n",
            "  Downloading cmd2-2.4.2-py3-none-any.whl (147 kB)\n",
            "\u001b[K     |████████████████████████████████| 147 kB 63.1 MB/s \n",
            "\u001b[?25hCollecting pbr!=2.1.0,>=2.0.0\n",
            "  Downloading pbr-5.10.0-py2.py3-none-any.whl (112 kB)\n",
            "\u001b[K     |████████████████████████████████| 112 kB 67.9 MB/s \n",
            "\u001b[?25hRequirement already satisfied: PrettyTable>=0.7.2 in /usr/local/lib/python3.7/dist-packages (from cliff->optuna) (3.4.1)\n",
            "Collecting stevedore>=2.0.1\n",
            "  Downloading stevedore-3.5.0-py3-none-any.whl (49 kB)\n",
            "\u001b[K     |████████████████████████████████| 49 kB 7.3 MB/s \n",
            "\u001b[?25hCollecting autopage>=0.4.0\n",
            "  Downloading autopage-0.5.1-py3-none-any.whl (29 kB)\n",
            "Requirement already satisfied: typing-extensions in /usr/local/lib/python3.7/dist-packages (from cmd2>=1.0.0->cliff->optuna) (4.1.1)\n",
            "Requirement already satisfied: attrs>=16.3.0 in /usr/local/lib/python3.7/dist-packages (from cmd2>=1.0.0->cliff->optuna) (22.1.0)\n",
            "Requirement already satisfied: wcwidth>=0.1.7 in /usr/local/lib/python3.7/dist-packages (from cmd2>=1.0.0->cliff->optuna) (0.2.5)\n",
            "Collecting pyperclip>=1.6\n",
            "  Downloading pyperclip-1.8.2.tar.gz (20 kB)\n",
            "Requirement already satisfied: zipp>=0.5 in /usr/local/lib/python3.7/dist-packages (from importlib-metadata->alembic>=1.5.0->optuna) (3.8.1)\n",
            "Requirement already satisfied: MarkupSafe>=0.9.2 in /usr/local/lib/python3.7/dist-packages (from Mako->alembic>=1.5.0->optuna) (2.0.1)\n",
            "Building wheels for collected packages: pyperclip\n",
            "  Building wheel for pyperclip (setup.py) ... \u001b[?25l\u001b[?25hdone\n",
            "  Created wheel for pyperclip: filename=pyperclip-1.8.2-py3-none-any.whl size=11137 sha256=83868e1b2f0fa4ead125769ee3be72cf8175c5c112e409c53527f282d439d7ec\n",
            "  Stored in directory: /root/.cache/pip/wheels/9f/18/84/8f69f8b08169c7bae2dde6bd7daf0c19fca8c8e500ee620a28\n",
            "Successfully built pyperclip\n",
            "Installing collected packages: pyperclip, pbr, stevedore, Mako, cmd2, autopage, colorlog, cmaes, cliff, alembic, optuna\n",
            "Successfully installed Mako-1.2.2 alembic-1.8.1 autopage-0.5.1 cliff-3.10.1 cmaes-0.8.2 cmd2-2.4.2 colorlog-6.7.0 optuna-3.0.2 pbr-5.10.0 pyperclip-1.8.2 stevedore-3.5.0\n"
          ]
        }
      ],
      "source": [
        "# Устанавливаем библиотеку\n",
        "!pip install optuna\n",
        "# или\n",
        "#!conda install -c conda-forge optuna"
      ]
    },
    {
      "cell_type": "code",
      "source": [
        "# импорт\n",
        "import optuna"
      ],
      "metadata": {
        "id": "3iEL7mhHRhXr"
      },
      "id": "3iEL7mhHRhXr",
      "execution_count": 49,
      "outputs": []
    },
    {
      "cell_type": "markdown",
      "source": [
        "Оптимизация модели логистической регрессии"
      ],
      "metadata": {
        "id": "FvC-qU5vQNXB"
      },
      "id": "FvC-qU5vQNXB"
    },
    {
      "cell_type": "code",
      "source": [
        "def optuna_lg_reg(trial):\n",
        "  # задаем пространства поиска гиперпараметров\n",
        "  penalty = trial.suggest_categorical('penalty', ['l2', 'none'])\n",
        "  solver = trial.suggest_categorical('solver', ['lbfgs', 'saga'] )\n",
        "  C = trial.suggest_float('C', 0.05, 1, step=0.05)\n",
        "\n",
        "  # создаем модель\n",
        "  model = linear_model.LogisticRegression(penalty=penalty,\n",
        "                                          solver=solver,\n",
        "                                          C=C,\n",
        "                                          random_state=random_state)\n",
        "  # обучаем модель\n",
        "  #model.fit(X_train_scaled, y_train)\n",
        "  #score = metrics.f1_score(y_train, model.predict(X_train_scaled))\n",
        "  score = cross_val_score(model, X_train, y_train, cv=5, scoring=\"f1\", n_jobs=-1).mean()\n",
        "  return score\n",
        "  "
      ],
      "metadata": {
        "id": "1oavN6YDQWYu"
      },
      "id": "1oavN6YDQWYu",
      "execution_count": 58,
      "outputs": []
    },
    {
      "cell_type": "code",
      "source": [
        "%%time\n",
        "# cоздаем объект исследования\n",
        "# можем напрямую указать, что нам необходимо максимизировать метрику direction=\"maximize\"\n",
        "study = optuna.create_study(study_name=\"LogisticRegression\", direction=\"maximize\")\n",
        "# ищем лучшую комбинацию гиперпараметров n_trials раз\n",
        "study.optimize(optuna_lg_reg, n_trials=20)"
      ],
      "metadata": {
        "colab": {
          "base_uri": "https://localhost:8080/"
        },
        "id": "hPmqGgjBRn0h",
        "outputId": "322ec6b9-1272-4cbf-c9c2-f1abda50381c"
      },
      "id": "hPmqGgjBRn0h",
      "execution_count": 59,
      "outputs": [
        {
          "output_type": "stream",
          "name": "stderr",
          "text": [
            "\u001b[32m[I 2022-09-17 11:58:55,204]\u001b[0m A new study created in memory with name: LogisticRegression\u001b[0m\n",
            "\u001b[32m[I 2022-09-17 11:58:59,183]\u001b[0m Trial 0 finished with value: 0.7475536741581407 and parameters: {'penalty': 'none', 'solver': 'lbfgs', 'C': 1.0}. Best is trial 0 with value: 0.7475536741581407.\u001b[0m\n",
            "\u001b[32m[I 2022-09-17 11:59:25,087]\u001b[0m Trial 1 finished with value: 0.7782245707805978 and parameters: {'penalty': 'l2', 'solver': 'saga', 'C': 0.55}. Best is trial 1 with value: 0.7782245707805978.\u001b[0m\n",
            "\u001b[32m[I 2022-09-17 11:59:28,428]\u001b[0m Trial 2 finished with value: 0.7718082028399963 and parameters: {'penalty': 'l2', 'solver': 'lbfgs', 'C': 0.8}. Best is trial 1 with value: 0.7782245707805978.\u001b[0m\n",
            "\u001b[32m[I 2022-09-17 11:59:56,155]\u001b[0m Trial 3 finished with value: 0.7742392087080294 and parameters: {'penalty': 'l2', 'solver': 'saga', 'C': 0.9500000000000001}. Best is trial 1 with value: 0.7782245707805978.\u001b[0m\n",
            "\u001b[32m[I 2022-09-17 12:00:21,679]\u001b[0m Trial 4 finished with value: 0.7751067514546518 and parameters: {'penalty': 'l2', 'solver': 'saga', 'C': 0.7500000000000001}. Best is trial 1 with value: 0.7782245707805978.\u001b[0m\n",
            "\u001b[32m[I 2022-09-17 12:00:24,970]\u001b[0m Trial 5 finished with value: 0.770363202122718 and parameters: {'penalty': 'l2', 'solver': 'lbfgs', 'C': 0.6000000000000001}. Best is trial 1 with value: 0.7782245707805978.\u001b[0m\n",
            "\u001b[32m[I 2022-09-17 12:00:29,024]\u001b[0m Trial 6 finished with value: 0.7711937990834128 and parameters: {'penalty': 'l2', 'solver': 'lbfgs', 'C': 0.7500000000000001}. Best is trial 1 with value: 0.7782245707805978.\u001b[0m\n",
            "\u001b[32m[I 2022-09-17 12:00:32,364]\u001b[0m Trial 7 finished with value: 0.7475536741581407 and parameters: {'penalty': 'none', 'solver': 'lbfgs', 'C': 0.2}. Best is trial 1 with value: 0.7782245707805978.\u001b[0m\n",
            "\u001b[32m[I 2022-09-17 12:00:57,864]\u001b[0m Trial 8 finished with value: 0.7697565489684337 and parameters: {'penalty': 'none', 'solver': 'saga', 'C': 1.0}. Best is trial 1 with value: 0.7782245707805978.\u001b[0m\n",
            "\u001b[32m[I 2022-09-17 12:01:23,431]\u001b[0m Trial 9 finished with value: 0.7736287231827423 and parameters: {'penalty': 'l2', 'solver': 'saga', 'C': 0.8500000000000001}. Best is trial 1 with value: 0.7782245707805978.\u001b[0m\n",
            "\u001b[32m[I 2022-09-17 12:01:48,977]\u001b[0m Trial 10 finished with value: 0.7697565489684337 and parameters: {'penalty': 'none', 'solver': 'saga', 'C': 0.3}. Best is trial 1 with value: 0.7782245707805978.\u001b[0m\n",
            "\u001b[32m[I 2022-09-17 12:02:17,116]\u001b[0m Trial 11 finished with value: 0.7799517703970393 and parameters: {'penalty': 'l2', 'solver': 'saga', 'C': 0.45}. Best is trial 11 with value: 0.7799517703970393.\u001b[0m\n",
            "\u001b[32m[I 2022-09-17 12:02:42,669]\u001b[0m Trial 12 finished with value: 0.7799517703970393 and parameters: {'penalty': 'l2', 'solver': 'saga', 'C': 0.45}. Best is trial 11 with value: 0.7799517703970393.\u001b[0m\n",
            "\u001b[32m[I 2022-09-17 12:03:08,312]\u001b[0m Trial 13 finished with value: 0.7789798417246152 and parameters: {'penalty': 'l2', 'solver': 'saga', 'C': 0.4}. Best is trial 11 with value: 0.7799517703970393.\u001b[0m\n",
            "\u001b[32m[I 2022-09-17 12:03:33,902]\u001b[0m Trial 14 finished with value: 0.7822808091111928 and parameters: {'penalty': 'l2', 'solver': 'saga', 'C': 0.05}. Best is trial 14 with value: 0.7822808091111928.\u001b[0m\n",
            "\u001b[32m[I 2022-09-17 12:04:01,744]\u001b[0m Trial 15 finished with value: 0.7817623180369622 and parameters: {'penalty': 'l2', 'solver': 'saga', 'C': 0.1}. Best is trial 14 with value: 0.7822808091111928.\u001b[0m\n",
            "\u001b[32m[I 2022-09-17 12:04:27,223]\u001b[0m Trial 16 finished with value: 0.7822808091111928 and parameters: {'penalty': 'l2', 'solver': 'saga', 'C': 0.05}. Best is trial 14 with value: 0.7822808091111928.\u001b[0m\n",
            "\u001b[32m[I 2022-09-17 12:04:52,706]\u001b[0m Trial 17 finished with value: 0.7822808091111928 and parameters: {'penalty': 'l2', 'solver': 'saga', 'C': 0.05}. Best is trial 14 with value: 0.7822808091111928.\u001b[0m\n",
            "\u001b[32m[I 2022-09-17 12:05:18,171]\u001b[0m Trial 18 finished with value: 0.7697565489684337 and parameters: {'penalty': 'none', 'solver': 'saga', 'C': 0.2}. Best is trial 14 with value: 0.7822808091111928.\u001b[0m\n",
            "\u001b[32m[I 2022-09-17 12:05:43,709]\u001b[0m Trial 19 finished with value: 0.78180592950664 and parameters: {'penalty': 'l2', 'solver': 'saga', 'C': 0.15000000000000002}. Best is trial 14 with value: 0.7822808091111928.\u001b[0m\n"
          ]
        },
        {
          "output_type": "stream",
          "name": "stdout",
          "text": [
            "CPU times: user 3.19 s, sys: 739 ms, total: 3.93 s\n",
            "Wall time: 6min 48s\n"
          ]
        }
      ]
    },
    {
      "cell_type": "code",
      "source": [
        "# рассчитаем точность для тестовой выборки\n",
        "model = linear_model.LogisticRegression(**study.best_params,random_state=random_state)\n",
        "model.fit(X_train, y_train)\n",
        "y_train_pred = model.predict(X_train)\n",
        "print(\"accuracy на тестовом наборе: {:.2f}\".format(model.score(X_test, y_test)))\n",
        "y_test_pred = model.predict(X_test)\n",
        "print('f1_score на тестовом наборе: {:.2f}'.format(metrics.f1_score(y_test, y_test_pred)))"
      ],
      "metadata": {
        "colab": {
          "base_uri": "https://localhost:8080/"
        },
        "id": "n9UQxj2zRssj",
        "outputId": "6eaeae8e-5183-4673-dc19-40f431acb029"
      },
      "id": "n9UQxj2zRssj",
      "execution_count": 60,
      "outputs": [
        {
          "output_type": "stream",
          "name": "stdout",
          "text": [
            "accuracy на тестовом наборе: 0.77\n",
            "f1_score на тестовом наборе: 0.80\n"
          ]
        },
        {
          "output_type": "stream",
          "name": "stderr",
          "text": [
            "/usr/local/lib/python3.7/dist-packages/sklearn/linear_model/_sag.py:354: ConvergenceWarning: The max_iter was reached which means the coef_ did not converge\n",
            "  ConvergenceWarning,\n"
          ]
        }
      ]
    },
    {
      "cell_type": "markdown",
      "source": [
        "Значение метрики увеличилось на 0.02"
      ],
      "metadata": {
        "id": "Lq9MfcwOa7cj"
      },
      "id": "Lq9MfcwOa7cj"
    },
    {
      "cell_type": "markdown",
      "source": [
        "Оптимизация модели случайного леса"
      ],
      "metadata": {
        "id": "DaEpICNfQRIy"
      },
      "id": "DaEpICNfQRIy"
    },
    {
      "cell_type": "code",
      "execution_count": 61,
      "id": "aSF_70FWu3T6",
      "metadata": {
        "id": "aSF_70FWu3T6"
      },
      "outputs": [],
      "source": [
        "def optuna_rf(trial):\n",
        "  # задаем пространства поиска гиперпараметров\n",
        "  n_estimators = trial.suggest_int('n_estimators', 100, 200, 1)\n",
        "  max_depth = trial.suggest_int('max_depth', 10, 30, 1)\n",
        "  min_samples_leaf = trial.suggest_int('min_samples_leaf', 2, 10, 1)\n",
        "\n",
        "  # создаем модель\n",
        "  model = ensemble.RandomForestClassifier(n_estimators=n_estimators,\n",
        "                                          max_depth=max_depth,\n",
        "                                          min_samples_leaf=min_samples_leaf,\n",
        "                                          random_state=random_state)\n",
        "  # обучаем модель\n",
        "  #model.fit(X_train_scaled, y_train)\n",
        "  #score = metrics.f1_score(y_train, model.predict(X_train_scaled))\n",
        "  score = cross_val_score(model, X_train, y_train, cv=5, scoring=\"f1\", n_jobs=-1).mean()\n",
        "  return score\n",
        "  \n",
        "  "
      ]
    },
    {
      "cell_type": "code",
      "execution_count": 62,
      "id": "ubC21yLQpYyF",
      "metadata": {
        "id": "ubC21yLQpYyF",
        "colab": {
          "base_uri": "https://localhost:8080/"
        },
        "outputId": "75edefc5-d0ed-4798-851f-f8e30a1914ed"
      },
      "outputs": [
        {
          "output_type": "stream",
          "name": "stderr",
          "text": [
            "\u001b[32m[I 2022-09-17 12:09:54,005]\u001b[0m A new study created in memory with name: RandomForestClassifier\u001b[0m\n",
            "\u001b[32m[I 2022-09-17 12:10:03,532]\u001b[0m Trial 0 finished with value: 0.8075291823518695 and parameters: {'n_estimators': 159, 'max_depth': 26, 'min_samples_leaf': 3}. Best is trial 0 with value: 0.8075291823518695.\u001b[0m\n",
            "\u001b[32m[I 2022-09-17 12:10:11,075]\u001b[0m Trial 1 finished with value: 0.7935241118169724 and parameters: {'n_estimators': 200, 'max_depth': 11, 'min_samples_leaf': 9}. Best is trial 0 with value: 0.8075291823518695.\u001b[0m\n",
            "\u001b[32m[I 2022-09-17 12:10:18,789]\u001b[0m Trial 2 finished with value: 0.8015538236065755 and parameters: {'n_estimators': 139, 'max_depth': 16, 'min_samples_leaf': 7}. Best is trial 0 with value: 0.8075291823518695.\u001b[0m\n",
            "\u001b[32m[I 2022-09-17 12:10:27,372]\u001b[0m Trial 3 finished with value: 0.8020954289606772 and parameters: {'n_estimators': 102, 'max_depth': 22, 'min_samples_leaf': 4}. Best is trial 0 with value: 0.8075291823518695.\u001b[0m\n",
            "\u001b[32m[I 2022-09-17 12:10:36,099]\u001b[0m Trial 4 finished with value: 0.7983176524074121 and parameters: {'n_estimators': 157, 'max_depth': 18, 'min_samples_leaf': 6}. Best is trial 0 with value: 0.8075291823518695.\u001b[0m\n",
            "\u001b[32m[I 2022-09-17 12:10:41,068]\u001b[0m Trial 5 finished with value: 0.801382742278627 and parameters: {'n_estimators': 101, 'max_depth': 19, 'min_samples_leaf': 4}. Best is trial 0 with value: 0.8075291823518695.\u001b[0m\n",
            "\u001b[32m[I 2022-09-17 12:10:48,514]\u001b[0m Trial 6 finished with value: 0.8033657200508293 and parameters: {'n_estimators': 155, 'max_depth': 12, 'min_samples_leaf': 3}. Best is trial 0 with value: 0.8075291823518695.\u001b[0m\n",
            "\u001b[32m[I 2022-09-17 12:10:55,806]\u001b[0m Trial 7 finished with value: 0.7909670120633979 and parameters: {'n_estimators': 188, 'max_depth': 28, 'min_samples_leaf': 10}. Best is trial 0 with value: 0.8075291823518695.\u001b[0m\n",
            "\u001b[32m[I 2022-09-17 12:11:03,030]\u001b[0m Trial 8 finished with value: 0.8035935930169862 and parameters: {'n_estimators': 158, 'max_depth': 14, 'min_samples_leaf': 4}. Best is trial 0 with value: 0.8075291823518695.\u001b[0m\n",
            "\u001b[32m[I 2022-09-17 12:11:10,855]\u001b[0m Trial 9 finished with value: 0.7986762159679913 and parameters: {'n_estimators': 189, 'max_depth': 15, 'min_samples_leaf': 7}. Best is trial 0 with value: 0.8075291823518695.\u001b[0m\n",
            "\u001b[32m[I 2022-09-17 12:11:17,857]\u001b[0m Trial 10 finished with value: 0.8103611864413978 and parameters: {'n_estimators': 132, 'max_depth': 30, 'min_samples_leaf': 2}. Best is trial 10 with value: 0.8103611864413978.\u001b[0m\n",
            "\u001b[32m[I 2022-09-17 12:11:24,922]\u001b[0m Trial 11 finished with value: 0.8107204184099077 and parameters: {'n_estimators': 131, 'max_depth': 30, 'min_samples_leaf': 2}. Best is trial 11 with value: 0.8107204184099077.\u001b[0m\n",
            "\u001b[32m[I 2022-09-17 12:11:31,732]\u001b[0m Trial 12 finished with value: 0.8108490898517765 and parameters: {'n_estimators': 126, 'max_depth': 30, 'min_samples_leaf': 2}. Best is trial 12 with value: 0.8108490898517765.\u001b[0m\n",
            "\u001b[32m[I 2022-09-17 12:11:38,296]\u001b[0m Trial 13 finished with value: 0.8087287628227052 and parameters: {'n_estimators': 121, 'max_depth': 24, 'min_samples_leaf': 2}. Best is trial 12 with value: 0.8108490898517765.\u001b[0m\n",
            "\u001b[32m[I 2022-09-17 12:11:43,831]\u001b[0m Trial 14 finished with value: 0.7992186240020606 and parameters: {'n_estimators': 119, 'max_depth': 30, 'min_samples_leaf': 5}. Best is trial 12 with value: 0.8108490898517765.\u001b[0m\n",
            "\u001b[32m[I 2022-09-17 12:11:51,301]\u001b[0m Trial 15 finished with value: 0.8110540493505649 and parameters: {'n_estimators': 140, 'max_depth': 26, 'min_samples_leaf': 2}. Best is trial 15 with value: 0.8110540493505649.\u001b[0m\n",
            "\u001b[32m[I 2022-09-17 12:12:01,975]\u001b[0m Trial 16 finished with value: 0.8075381405481308 and parameters: {'n_estimators': 173, 'max_depth': 26, 'min_samples_leaf': 3}. Best is trial 15 with value: 0.8110540493505649.\u001b[0m\n",
            "\u001b[32m[I 2022-09-17 12:12:08,490]\u001b[0m Trial 17 finished with value: 0.8003557193949595 and parameters: {'n_estimators': 142, 'max_depth': 22, 'min_samples_leaf': 5}. Best is trial 15 with value: 0.8110540493505649.\u001b[0m\n",
            "\u001b[32m[I 2022-09-17 12:12:14,254]\u001b[0m Trial 18 finished with value: 0.7974621709820564 and parameters: {'n_estimators': 115, 'max_depth': 27, 'min_samples_leaf': 8}. Best is trial 15 with value: 0.8110540493505649.\u001b[0m\n",
            "\u001b[32m[I 2022-09-17 12:12:22,051]\u001b[0m Trial 19 finished with value: 0.8082731447892936 and parameters: {'n_estimators': 146, 'max_depth': 24, 'min_samples_leaf': 2}. Best is trial 15 with value: 0.8110540493505649.\u001b[0m\n"
          ]
        },
        {
          "output_type": "stream",
          "name": "stdout",
          "text": [
            "CPU times: user 1.91 s, sys: 541 ms, total: 2.45 s\n",
            "Wall time: 2min 28s\n"
          ]
        }
      ],
      "source": [
        "%%time\n",
        "# cоздаем объект исследования\n",
        "# можем напрямую указать, что нам необходимо максимизировать метрику direction=\"maximize\"\n",
        "study = optuna.create_study(study_name=\"RandomForestClassifier\", direction=\"maximize\")\n",
        "# ищем лучшую комбинацию гиперпараметров n_trials раз\n",
        "study.optimize(optuna_rf, n_trials=20)"
      ]
    },
    {
      "cell_type": "code",
      "execution_count": 63,
      "id": "JlFIQ0p1pYAJ",
      "metadata": {
        "id": "JlFIQ0p1pYAJ",
        "colab": {
          "base_uri": "https://localhost:8080/"
        },
        "outputId": "c77f850c-09b8-41d0-9c82-ecf5ce84b5a1"
      },
      "outputs": [
        {
          "output_type": "stream",
          "name": "stdout",
          "text": [
            "accuracy на тестовом наборе: 0.79\n",
            "f1_score на тестовом наборе: 0.81\n"
          ]
        }
      ],
      "source": [
        "# рассчитаем точность для тестовой выборки\n",
        "model = ensemble.RandomForestClassifier(**study.best_params,random_state=random_state, )\n",
        "model.fit(X_train, y_train)\n",
        "y_train_pred = model.predict(X_train)\n",
        "print(\"accuracy на тестовом наборе: {:.2f}\".format(model.score(X_test, y_test)))\n",
        "y_test_pred = model.predict(X_test)\n",
        "print('f1_score на тестовом наборе: {:.2f}'.format(metrics.f1_score(y_test, y_test_pred)))"
      ]
    },
    {
      "cell_type": "markdown",
      "source": [
        "Значение метрики не изменилось."
      ],
      "metadata": {
        "id": "d44cLyeebCjU"
      },
      "id": "d44cLyeebCjU"
    },
    {
      "cell_type": "markdown",
      "source": [
        "## Выводы"
      ],
      "metadata": {
        "id": "B6tW-RFzbFcW"
      },
      "id": "B6tW-RFzbFcW"
    },
    {
      "cell_type": "markdown",
      "source": [
        "В ходе работы по оптимизации гиперпараметров моделей удалось улучшить метрики (f1-score) для обоих моделей: для логистической регрессии улучшение с 0.78 до 0.80 было получено с помощью библиотеки Optuna; для модели случайного леса улучшение метрики с 0.81 до 0.82 было получено с использованием всех методов, кроме Optuna. Отмечаю, что предсказательная способность модели случайный лес изначально оказалась выше. При этом для оптимизации использовались пространства гиперпараметров, взятые из практических заданий к курсу. Не исключено, что использование других значений гиперпараметров может дополнительно улучшить исследуемые метрики."
      ],
      "metadata": {
        "id": "m8MF2PlzbJrM"
      },
      "id": "m8MF2PlzbJrM"
    }
  ],
  "metadata": {
    "colab": {
      "collapsed_sections": [
        "af628f85-6780-4b24-8212-e9946c388196",
        "203fb80e-a314-4876-850c-5e4913f78563",
        "Q6PP7ObJp7WG"
      ],
      "provenance": [],
      "toc_visible": true,
      "include_colab_link": true
    },
    "kernelspec": {
      "display_name": "Python 3 (ipykernel)",
      "language": "python",
      "name": "python3"
    },
    "language_info": {
      "codemirror_mode": {
        "name": "ipython",
        "version": 3
      },
      "file_extension": ".py",
      "mimetype": "text/x-python",
      "name": "python",
      "nbconvert_exporter": "python",
      "pygments_lexer": "ipython3",
      "version": "3.9.7"
    }
  },
  "nbformat": 4,
  "nbformat_minor": 5
}